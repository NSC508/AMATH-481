{
 "cells": [
  {
   "cell_type": "code",
   "execution_count": 1,
   "metadata": {},
   "outputs": [],
   "source": [
    "import numpy as np"
   ]
  },
  {
   "cell_type": "code",
   "execution_count": 7,
   "metadata": {},
   "outputs": [
    {
     "name": "stdout",
     "output_type": "stream",
     "text": [
      "[]\n"
     ]
    }
   ],
   "source": [
    "dydt = lambda y, t: -3 * y + np.sin(t)\n",
    "dt = np.arange(-2, -8 + 1, 1)\n",
    "print(np.arange(-2, -8 + 1, 1))\n",
    "y0 = np.pi/np.sqrt(2)\n",
    "t = np.arange(0, 6)\n",
    "dt = 2**dt\n",
    "val_dict = {}\n",
    "for i in dt: \n",
    "    res = [y0]\n",
    "    for j in t:\n",
    "        res.append(res[-1] + i * dydt(res[-1], j))\n",
    "    val_dict[i] = res"
   ]
  }
 ],
 "metadata": {
  "kernelspec": {
   "display_name": "Python 3.10.6 ('base')",
   "language": "python",
   "name": "python3"
  },
  "language_info": {
   "codemirror_mode": {
    "name": "ipython",
    "version": 3
   },
   "file_extension": ".py",
   "mimetype": "text/x-python",
   "name": "python",
   "nbconvert_exporter": "python",
   "pygments_lexer": "ipython3",
   "version": "3.10.6"
  },
  "orig_nbformat": 4,
  "vscode": {
   "interpreter": {
    "hash": "d4d1e4263499bec80672ea0156c357c1ee493ec2b1c70f0acce89fc37c4a6abe"
   }
  }
 },
 "nbformat": 4,
 "nbformat_minor": 2
}
